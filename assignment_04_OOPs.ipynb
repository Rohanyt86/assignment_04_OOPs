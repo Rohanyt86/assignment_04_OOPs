{
 "cells": [
  {
   "cell_type": "markdown",
   "id": "cf7e8cc7",
   "metadata": {},
   "source": [
    "#### Q1. Explain Class and Object with respect to Object-Oriented Programming. Give a suitable example."
   ]
  },
  {
   "cell_type": "code",
   "execution_count": null,
   "id": "b823bf4f",
   "metadata": {},
   "outputs": [],
   "source": [
    "## class\n",
    "\n",
    "A class is a blueprint or a template for creating objects. It defines the properties (attributes)\n",
    "and behaviors (methods) that the objects of that class will have.\n",
    "A class can be thought of as a user-defined data type.\n",
    "\n",
    "## Object\n",
    "\n",
    "An object is an instance of a class. It is a concrete realization of the class blueprint.\n",
    "Objects have their own unique data (attributes) and can perform actions (methods) defined in the class.\n",
    "Multiple objects can be created from the same class, each with its own distinct data."
   ]
  },
  {
   "cell_type": "code",
   "execution_count": 17,
   "id": "e4259832",
   "metadata": {},
   "outputs": [],
   "source": [
    "## example\n",
    "\n",
    "class shop():\n",
    "    \n",
    "    def welcome(self):\n",
    "        return \"hii what you want to purchase\"\n"
   ]
  },
  {
   "cell_type": "code",
   "execution_count": 18,
   "id": "5caa113c",
   "metadata": {},
   "outputs": [],
   "source": [
    "p = shop()  # object"
   ]
  },
  {
   "cell_type": "code",
   "execution_count": 19,
   "id": "0771e4af",
   "metadata": {},
   "outputs": [
    {
     "data": {
      "text/plain": [
       "'hii what you want to purchase'"
      ]
     },
     "execution_count": 19,
     "metadata": {},
     "output_type": "execute_result"
    }
   ],
   "source": [
    "p.welcome()"
   ]
  },
  {
   "cell_type": "markdown",
   "id": "1ea24266",
   "metadata": {},
   "source": [
    "#### Q2. Name the four pillars of OOPs."
   ]
  },
  {
   "cell_type": "code",
   "execution_count": null,
   "id": "c1ddc358",
   "metadata": {},
   "outputs": [],
   "source": [
    "1) Encapsulation\n",
    "2) Abstraction\n",
    "3) Inheritance\n",
    "4) Polymorphism"
   ]
  },
  {
   "cell_type": "markdown",
   "id": "8ce87e17",
   "metadata": {},
   "source": [
    "#### Q3. Explain why the __init__() function is used. Give a suitable example."
   ]
  },
  {
   "cell_type": "code",
   "execution_count": null,
   "id": "da699853",
   "metadata": {},
   "outputs": [],
   "source": [
    "\n",
    "In object-oriented programming, __init__ is a special method (also known as a constructor) that is used to initialize\n",
    "objects of a class. It is called automatically when an object of the class is created. \n",
    "The primary purpose of the __init__ method is to set up the initial state or attributes of the object."
   ]
  },
  {
   "cell_type": "code",
   "execution_count": 20,
   "id": "1a9fd490",
   "metadata": {},
   "outputs": [],
   "source": [
    "## example\n",
    "class cars():   # class\n",
    "    \n",
    "    def __init__(rohan, name,logo,price):\n",
    "        rohan.name = name\n",
    "        rohan.logo = logo\n",
    "        rohan.price = price\n",
    "    \n",
    "    def specification(rohan):\n",
    "        return rohan.name, rohan.logo, rohan.price"
   ]
  },
  {
   "cell_type": "code",
   "execution_count": 21,
   "id": "e10d1304",
   "metadata": {},
   "outputs": [],
   "source": [
    "price = cars(\"Lamborgini\",\"cars\",10000)  # object"
   ]
  },
  {
   "cell_type": "code",
   "execution_count": 22,
   "id": "38bc42f8",
   "metadata": {},
   "outputs": [
    {
     "data": {
      "text/plain": [
       "('Lamborgini', 'cars', 10000)"
      ]
     },
     "execution_count": 22,
     "metadata": {},
     "output_type": "execute_result"
    }
   ],
   "source": [
    "price.specification()"
   ]
  },
  {
   "cell_type": "code",
   "execution_count": 23,
   "id": "edf1e475",
   "metadata": {},
   "outputs": [
    {
     "data": {
      "text/plain": [
       "'Lamborgini'"
      ]
     },
     "execution_count": 23,
     "metadata": {},
     "output_type": "execute_result"
    }
   ],
   "source": [
    "price.name"
   ]
  },
  {
   "cell_type": "markdown",
   "id": "84924bdc",
   "metadata": {},
   "source": [
    "#### Q4. Why self is used in OOPs?"
   ]
  },
  {
   "cell_type": "code",
   "execution_count": null,
   "id": "6669fbd2",
   "metadata": {},
   "outputs": [],
   "source": [
    "In object-oriented programming (OOP), self is a convention used in Python (and some other programming languages) \n",
    "to represent the instance of a class within the class itself. It is a reference to the current object \n",
    "that allows you to access and manipulate the object's attributes and methods from within its own methods."
   ]
  },
  {
   "cell_type": "markdown",
   "id": "c817c682",
   "metadata": {},
   "source": [
    "#### Q5. What is inheritance? Give an example for each type of inheritance."
   ]
  },
  {
   "cell_type": "code",
   "execution_count": null,
   "id": "a91a127e",
   "metadata": {},
   "outputs": [],
   "source": [
    "->  In object-oriented programming, inheritance is a mechanism that allows one class to inherit properties and \n",
    "behaviors from another class."
   ]
  },
  {
   "cell_type": "code",
   "execution_count": null,
   "id": "f72354f0",
   "metadata": {},
   "outputs": [],
   "source": [
    "# Types of inheritance\n",
    "- 1) single \n",
    "- 2) multiple\n",
    "- 3) multi-level \n",
    "- 4) hybrid\n",
    "- 5) Hierarcical Inheritance"
   ]
  },
  {
   "cell_type": "code",
   "execution_count": 3,
   "id": "68367112",
   "metadata": {},
   "outputs": [],
   "source": [
    "## 1) Single\n",
    "\n",
    "class henry():\n",
    "\n",
    "      def jin(self):\n",
    "            return \"i am single inheritance\""
   ]
  },
  {
   "cell_type": "code",
   "execution_count": 4,
   "id": "743bdb6d",
   "metadata": {},
   "outputs": [],
   "source": [
    "p = henry()"
   ]
  },
  {
   "cell_type": "code",
   "execution_count": 5,
   "id": "739eddf2",
   "metadata": {},
   "outputs": [
    {
     "data": {
      "text/plain": [
       "'i am single inheritance'"
      ]
     },
     "execution_count": 5,
     "metadata": {},
     "output_type": "execute_result"
    }
   ],
   "source": [
    "p.jin()"
   ]
  },
  {
   "cell_type": "code",
   "execution_count": 6,
   "id": "76b9aff5",
   "metadata": {},
   "outputs": [],
   "source": [
    "## 2) Multiple\n",
    "\n",
    "class bank_acc():\n",
    "    \n",
    "    def deposit(self):\n",
    "        return \"Here you can deposit the amount\"\n"
   ]
  },
  {
   "cell_type": "code",
   "execution_count": 7,
   "id": "3b415c7b",
   "metadata": {},
   "outputs": [],
   "source": [
    "class school():\n",
    "    \n",
    "    def timetable(self):\n",
    "        return \"The timetable of the school\""
   ]
  },
  {
   "cell_type": "code",
   "execution_count": 8,
   "id": "3841f679",
   "metadata": {},
   "outputs": [],
   "source": [
    "class cars(bank_acc,school):\n",
    "    pass"
   ]
  },
  {
   "cell_type": "code",
   "execution_count": 10,
   "id": "084ae5fc",
   "metadata": {},
   "outputs": [],
   "source": [
    "p = cars()"
   ]
  },
  {
   "cell_type": "code",
   "execution_count": 11,
   "id": "51c2028f",
   "metadata": {},
   "outputs": [
    {
     "data": {
      "text/plain": [
       "'HEre you can deposit the amount'"
      ]
     },
     "execution_count": 11,
     "metadata": {},
     "output_type": "execute_result"
    }
   ],
   "source": [
    "p.deposit()"
   ]
  },
  {
   "cell_type": "code",
   "execution_count": 12,
   "id": "445b8d0c",
   "metadata": {},
   "outputs": [
    {
     "data": {
      "text/plain": [
       "'The timetable of the school'"
      ]
     },
     "execution_count": 12,
     "metadata": {},
     "output_type": "execute_result"
    }
   ],
   "source": [
    "p.timetable()"
   ]
  },
  {
   "cell_type": "code",
   "execution_count": 13,
   "id": "0b862b24",
   "metadata": {},
   "outputs": [],
   "source": [
    "## 3) Multi-level"
   ]
  },
  {
   "cell_type": "code",
   "execution_count": 15,
   "id": "faab82f2",
   "metadata": {},
   "outputs": [],
   "source": [
    "# parent\n",
    "class parent():\n",
    "    def assign_age(self,age):\n",
    "        self.age = age\n",
    "    def show_age(self):\n",
    "        print(\"the age of Parents is \",self.age)\n",
    "        \n",
    "        \n",
    "# child\n",
    "class child(parent):\n",
    "    def assign_name(self,name):\n",
    "        self.name = name\n",
    "    def show_name(self):\n",
    "        print(\"the name of child is \",self.name)\n",
    "        \n",
    "# Grandchild\n",
    "class grandchild(child):\n",
    "    def assign_gender(self,gender):\n",
    "        self.gender = gender\n",
    "    def show_gender(self):\n",
    "        print(\"the gender of grandchild is \",self.gender)"
   ]
  },
  {
   "cell_type": "code",
   "execution_count": 16,
   "id": "c061e296",
   "metadata": {},
   "outputs": [],
   "source": [
    "p = grandchild()\n",
    "p.assign_age(21)\n",
    "p.assign_name(\"Rohan\")\n",
    "p.assign_gender(\"Male\")\n"
   ]
  },
  {
   "cell_type": "code",
   "execution_count": 17,
   "id": "7184ebaa",
   "metadata": {},
   "outputs": [
    {
     "name": "stdout",
     "output_type": "stream",
     "text": [
      "the name of child is  Rohan\n",
      "the age of Parents is  21\n",
      "the gender of grandchild is  Male\n"
     ]
    }
   ],
   "source": [
    "p.show_name()\n",
    "p.show_age()\n",
    "p.show_gender()"
   ]
  },
  {
   "cell_type": "code",
   "execution_count": 18,
   "id": "5440d727",
   "metadata": {},
   "outputs": [],
   "source": [
    "## Hybrid\n",
    "\n",
    "class ClassA:\n",
    "    def method_A(self):\n",
    "        print(\"Method A from ClassA\")\n",
    "\n",
    "class ClassB(ClassA):\n",
    "    def method_B(self):\n",
    "        print(\"Method B from ClassB\")\n",
    "\n",
    "class ClassC:\n",
    "    def method_C(self):\n",
    "        print(\"Method C from ClassC\")\n",
    "\n",
    "class Child(ClassB, ClassC):\n",
    "    def child_method(self):\n",
    "        print(\"This is a method from the Child class\")"
   ]
  },
  {
   "cell_type": "code",
   "execution_count": 25,
   "id": "765d2d0d",
   "metadata": {},
   "outputs": [
    {
     "name": "stdout",
     "output_type": "stream",
     "text": [
      "Method A from ClassA\n",
      "Method B from ClassB\n",
      "Method C from ClassC\n",
      "This is a method from the Child class\n"
     ]
    }
   ],
   "source": [
    "p = Child()\n",
    "p.method_A()\n",
    "p.method_B()\n",
    "p.method_C()\n",
    "p.child_method()"
   ]
  },
  {
   "cell_type": "code",
   "execution_count": 26,
   "id": "a733a379",
   "metadata": {},
   "outputs": [],
   "source": [
    "## hierarchical \n",
    "\n",
    "class Parent:\n",
    "    def parent_method(self):\n",
    "        print(\"This is a method from the Parent class\")\n",
    "\n",
    "class Child1(Parent):\n",
    "    def child1_method(self):\n",
    "        print(\"This is a method from Child1 class\")\n",
    "\n",
    "class Child2(Parent):\n",
    "    def child2_method(self):\n",
    "        print(\"This is a method from Child2 class\")"
   ]
  },
  {
   "cell_type": "code",
   "execution_count": 32,
   "id": "63776774",
   "metadata": {},
   "outputs": [],
   "source": [
    "p = Child1()\n",
    "p1 = Child2()"
   ]
  },
  {
   "cell_type": "code",
   "execution_count": 34,
   "id": "c2ab70d9",
   "metadata": {},
   "outputs": [
    {
     "name": "stdout",
     "output_type": "stream",
     "text": [
      "This is a method from Child2 class\n"
     ]
    }
   ],
   "source": [
    "p1.child2_method()"
   ]
  },
  {
   "cell_type": "code",
   "execution_count": 35,
   "id": "a4be2702",
   "metadata": {},
   "outputs": [
    {
     "name": "stdout",
     "output_type": "stream",
     "text": [
      "This is a method from Child1 class\n"
     ]
    }
   ],
   "source": [
    "p.child1_method()"
   ]
  },
  {
   "cell_type": "code",
   "execution_count": null,
   "id": "1e4b89fa",
   "metadata": {},
   "outputs": [],
   "source": []
  }
 ],
 "metadata": {
  "kernelspec": {
   "display_name": "Python 3 (ipykernel)",
   "language": "python",
   "name": "python3"
  },
  "language_info": {
   "codemirror_mode": {
    "name": "ipython",
    "version": 3
   },
   "file_extension": ".py",
   "mimetype": "text/x-python",
   "name": "python",
   "nbconvert_exporter": "python",
   "pygments_lexer": "ipython3",
   "version": "3.9.13"
  }
 },
 "nbformat": 4,
 "nbformat_minor": 5
}
